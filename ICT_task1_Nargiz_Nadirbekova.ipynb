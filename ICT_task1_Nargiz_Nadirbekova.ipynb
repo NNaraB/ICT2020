{
 "cells": [
  {
   "cell_type": "markdown",
   "metadata": {},
   "source": [
    "# ICT Task 1 (Nargiz Nadirbekova)\n"
   ]
  },
  {
   "cell_type": "markdown",
   "metadata": {},
   "source": [
    "exercise 1 "
   ]
  },
  {
   "cell_type": "code",
   "execution_count": null,
   "metadata": {},
   "outputs": [],
   "source": [
    "print (\"Nargiz Nadirbekova\")\n",
    "print (\"Mitina 4\")\n",
    "print (\"Almaty, 050000, Kazakhstan\")"
   ]
  },
  {
   "cell_type": "markdown",
   "metadata": {},
   "source": [
    "Exercise 2"
   ]
  },
  {
   "cell_type": "code",
   "execution_count": null,
   "metadata": {},
   "outputs": [],
   "source": [
    "print(\"Write your name, please\")\n",
    "name = input()\n",
    "print (\"Hello \"+ name)"
   ]
  },
  {
   "cell_type": "markdown",
   "metadata": {},
   "source": [
    "Exercise 3"
   ]
  },
  {
   "cell_type": "code",
   "execution_count": null,
   "metadata": {},
   "outputs": [],
   "source": [
    "width = float(input())\n",
    "length = float(input())\n",
    "area = width * length\n",
    "print(\"Area room \" + str(area) + \" m^2\")"
   ]
  },
  {
   "cell_type": "markdown",
   "metadata": {},
   "source": [
    "Exercise 4"
   ]
  },
  {
   "cell_type": "code",
   "execution_count": null,
   "metadata": {},
   "outputs": [],
   "source": [
    "width = float(input())\n",
    "length = float(input())\n",
    "area = width * length / 43560\n",
    "print(\"Area \" + str(area) + \" acr\")"
   ]
  },
  {
   "cell_type": "markdown",
   "metadata": {},
   "source": [
    "Exercise 5"
   ]
  },
  {
   "cell_type": "code",
   "execution_count": null,
   "metadata": {},
   "outputs": [],
   "source": [
    "a = int(input())\n",
    "b = int(input())\n",
    "c = 0.10* a + 0.25 * b\n",
    "print(f'{c:.2f}',\"$\")"
   ]
  },
  {
   "cell_type": "markdown",
   "metadata": {},
   "source": [
    "Exercise 6\n"
   ]
  },
  {
   "cell_type": "code",
   "execution_count": null,
   "metadata": {},
   "outputs": [],
   "source": [
    "a = int(input())\n",
    "tax = float(a/10)\n",
    "tip = float(a*0.18)\n",
    "overall = a + tax + tip\n",
    "print(\"Tax:\",f'{tax:.2f}')\n",
    "print(\"Tip:\",f'{tip:.2f}')\n",
    "print(\"Overall:\",f'{overall:.2f}')"
   ]
  },
  {
   "cell_type": "markdown",
   "metadata": {},
   "source": [
    "Exercise 7"
   ]
  },
  {
   "cell_type": "code",
   "execution_count": null,
   "metadata": {},
   "outputs": [],
   "source": [
    "n = int(input())\n",
    "sum = 0\n",
    "for x in range(1,n+1):\n",
    "    sum+=x\n",
    "print(sum)"
   ]
  },
  {
   "cell_type": "markdown",
   "metadata": {},
   "source": [
    "Exercise 8"
   ]
  },
  {
   "cell_type": "code",
   "execution_count": null,
   "metadata": {},
   "outputs": [],
   "source": [
    "widgetweighs =75\n",
    "gizmoweighs =112\n",
    "\n",
    "def main():\n",
    "numberOfWidget=int(input(\"Enter the number of widgets you ordered: \"))\n",
    "numberOfGizmo=int(input(\"Enter the number of gizmos you ordered: \"))\n",
    "totalWeight=numberOfGizmo*gizmoweighs+numberOfWidget*widgetweighs;\n",
    "print(\"\\nTotal weight of your order is : \",totalWeight,\" grams.\")\n",
    "\n",
    "\n",
    "main()"
   ]
  },
  {
   "cell_type": "markdown",
   "metadata": {},
   "source": [
    "Exercise 9"
   ]
  },
  {
   "cell_type": "code",
   "execution_count": null,
   "metadata": {},
   "outputs": [],
   "source": [
    "balance = int(input())\n",
    "print(\"Balance after 1 year:\",f'{balance*1.04:.2f}')\n",
    "print(\"Balance after 2 year:\",f'{balance*(1.04**2):.2f}')\n",
    "print(\"Balance after 3 year:\",f'{balance*(1.04**3):.2f}')"
   ]
  },
  {
   "cell_type": "markdown",
   "metadata": {},
   "source": [
    "Exercise 10"
   ]
  },
  {
   "cell_type": "code",
   "execution_count": null,
   "metadata": {},
   "outputs": [],
   "source": [
    "import math\n",
    "#Reading numbers from user\n",
    "a = int(input(\"Enter first number: \"))\n",
    "b = int(input(\"Enter second number: \"))\n",
    "#Calculating and printing sum\n",
    "print(a,\"+\",b,\"=\",a+b)\n",
    "#Calculating and printing difference\n",
    "print(a,\"-\",b,\"=\",a-b)\n",
    "#Calculating and printing product\n",
    "print(a,\"*\",b,\"=\",a*b)\n",
    "#Calculating and printing Quotient\n",
    "print(a,\"/\",b,\"=\",a/b)\n",
    "#Calculating and printing remainder\n",
    "print(a,\"%\",b,\"=\",a%b)\n",
    "#Calculating and printing log10 a\n",
    "print (\"math.log10(a) : \", math.log10(a))\n",
    "#Calculating and printing log10ab\n",
    "print (\"math.log10(ab) : \", math.log10(a)+ math.log10(b))"
   ]
  },
  {
   "cell_type": "markdown",
   "metadata": {},
   "source": [
    "Exercise 11"
   ]
  },
  {
   "cell_type": "code",
   "execution_count": null,
   "metadata": {},
   "outputs": [],
   "source": [
    "print(\"MPG:\")\n",
    "mpg = int(input())\n",
    "kanFEN = float((mpg * 3.75541) / 1.60934)\n",
    "print(f'{kanFEN/100:.2f}',\"L/100km\")"
   ]
  },
  {
   "cell_type": "markdown",
   "metadata": {},
   "source": [
    "Exercise 12"
   ]
  },
  {
   "cell_type": "code",
   "execution_count": null,
   "metadata": {},
   "outputs": [],
   "source": [
    "import math\n",
    "pi = 3.14\n",
    "a = int(input())\n",
    "a1 = int(input())\n",
    "b = int(input())\n",
    "b1 = int(input())\n",
    "A = (float(a/180)) * pi\n",
    "A1 = (float(a1/180)) * pi\n",
    "B = (float(b/180)) * pi\n",
    "B1 = (float(b1/180)) * pi\n",
    "Distance = 6371.1 * math.acos(math.sin(A)*math.sin(B)+math.cos(A)*math.cos(B)*math.cos(A1-B1))\n",
    "print(Distance,\"km\")"
   ]
  },
  {
   "cell_type": "markdown",
   "metadata": {},
   "source": [
    "Exercise 13"
   ]
  },
  {
   "cell_type": "code",
   "execution_count": null,
   "metadata": {},
   "outputs": [],
   "source": [
    "my_money = int(input())\n",
    "coins = {'Toonies': 200, 'Loonies': 100, 'Quarter': 25,\n",
    "         'Dime': 10, 'Nickel': 5, 'Penny': 1}\n",
    "for m in coins:\n",
    "    print('Number of', m + ':', my_money // coins[m])\n",
    "    my_money %= coins[m]"
   ]
  },
  {
   "cell_type": "markdown",
   "metadata": {},
   "source": [
    "Exercise 14"
   ]
  },
  {
   "cell_type": "code",
   "execution_count": null,
   "metadata": {},
   "outputs": [],
   "source": [
    "print(\"write your height: \")\n",
    "h_f = int(input(\"Feet: \"))\n",
    "h_i = int(input(\"Inches: \"))\n",
    "h_i += h_f * 12\n",
    "h_cm = round(h_i* 2.54, 1)\n",
    "\n",
    "print(\"Your height is : %d cm.\" % h_cm)"
   ]
  },
  {
   "cell_type": "markdown",
   "metadata": {},
   "source": [
    "Exercise 15"
   ]
  },
  {
   "cell_type": "code",
   "execution_count": null,
   "metadata": {},
   "outputs": [],
   "source": [
    "d_ft = int(input(\"Input distance in feet: \"))\n",
    "d_inches = d_ft * 12\n",
    "d_yards = d_ft / 3.0\n",
    "d_miles = d_ft / 5280.0\n",
    "\n",
    "print(\"The distance in inches is %i inches.\" % d_inches)\n",
    "print(\"The distance in yards is %.2f yards.\" % d_yards)\n",
    "print(\"The distance in miles is %.2f miles.\" % d_miles)"
   ]
  },
  {
   "cell_type": "markdown",
   "metadata": {},
   "source": [
    "Exercise 16"
   ]
  },
  {
   "cell_type": "code",
   "execution_count": null,
   "metadata": {},
   "outputs": [],
   "source": [
    "r = int(input())\n",
    "from math import pi\n",
    "print(f'Area of circle: {pi*r*r}, volume of sphere: {(4*pi*r**3)/3}')"
   ]
  },
  {
   "cell_type": "markdown",
   "metadata": {},
   "source": [
    "Exercise 17"
   ]
  },
  {
   "cell_type": "code",
   "execution_count": null,
   "metadata": {},
   "outputs": [],
   "source": [
    "mass = int(input())\n",
    "delta_t = int(input())\n",
    "print('Amount of energy:', mass*4.186*delta_t)\n",
    "print('Price:', mass*4.186*delta_t*8.9/3600000)"
   ]
  },
  {
   "cell_type": "markdown",
   "metadata": {},
   "source": [
    "Exercise 18"
   ]
  },
  {
   "cell_type": "code",
   "execution_count": null,
   "metadata": {},
   "outputs": [],
   "source": [
    "pi = 3.14\n",
    "r = float(input())\n",
    "h = float(input())\n",
    "V = pi * h * (r**2)\n",
    "print(f'{V:.1f}',\"m^3\")"
   ]
  },
  {
   "cell_type": "markdown",
   "metadata": {},
   "source": [
    "Exercise 19"
   ]
  },
  {
   "cell_type": "code",
   "execution_count": null,
   "metadata": {},
   "outputs": [],
   "source": [
    "Vi = 0\n",
    "a = 9.8\n",
    "d = float(input())\n",
    "vf = 2 * Vi + 2 * a * d\n",
    "print(vf,\"m/sec\")"
   ]
  },
  {
   "cell_type": "markdown",
   "metadata": {},
   "source": [
    "Exercise 20"
   ]
  },
  {
   "cell_type": "code",
   "execution_count": null,
   "metadata": {},
   "outputs": [],
   "source": [
    "print(\"Enter P:\")\n",
    "P = float(input())\n",
    "print(\"Enter V:\")\n",
    "V = float(input())\n",
    "V = V * 10**-3\n",
    "R = 8.314\n",
    "print(\"Enter T:\")\n",
    "T_kelvin = float(input())+ 273.15\n",
    "n = (P*V)/(R*T_kelvin)\n",
    "print(\"Enter P: {}\\nEnter V: {}\\nEnter T: {}\\nMol equal to: {}\".format(P, V, T_kelvin, n))"
   ]
  },
  {
   "cell_type": "markdown",
   "metadata": {},
   "source": [
    "Exercise 21"
   ]
  },
  {
   "cell_type": "code",
   "execution_count": null,
   "metadata": {},
   "outputs": [],
   "source": [
    "b = int(input())\n",
    "h = int(input())\n",
    "area = float((b*h)/2)\n",
    "print(f'{area:.2f}',\"m^2\")"
   ]
  },
  {
   "cell_type": "markdown",
   "metadata": {},
   "source": [
    "Exercise 22"
   ]
  },
  {
   "cell_type": "code",
   "execution_count": null,
   "metadata": {},
   "outputs": [],
   "source": [
    "import math\n",
    "s1 = float(input())\n",
    "s2 = float(input())\n",
    "s3 = float(input())\n",
    "s = (s1+s2+s3)/2\n",
    "area = math.sqrt(s*(s-s1)*(s-s2)*(s-s3))\n",
    "print(f'{area:.2f}',\"m^2\")"
   ]
  },
  {
   "cell_type": "markdown",
   "metadata": {},
   "source": [
    "Exercise 23"
   ]
  },
  {
   "cell_type": "code",
   "execution_count": null,
   "metadata": {},
   "outputs": [],
   "source": [
    "import math\n",
    "n = float(input())\n",
    "s = float(input())\n",
    "pi = 3.14\n",
    "n1 = (float(n/180))*pi\n",
    "area = (n*(s**2))/(4*math.tan(float(pi/n1)))\n",
    "print(\"area:\",f'{area:.3f}')"
   ]
  },
  {
   "cell_type": "markdown",
   "metadata": {},
   "source": [
    "Exercise 24"
   ]
  },
  {
   "cell_type": "code",
   "execution_count": null,
   "metadata": {},
   "outputs": [],
   "source": [
    "Days = int(input())\n",
    "Hours = int(input())\n",
    "Minutes = int(input())\n",
    "Seconds =int(input())\n",
    "print(Seconds+Minutes*60+Hours*60*60+Days+60*60*24,\"sec\")"
   ]
  },
  {
   "cell_type": "markdown",
   "metadata": {},
   "source": [
    "Exercise 25"
   ]
  },
  {
   "cell_type": "code",
   "execution_count": null,
   "metadata": {},
   "outputs": [],
   "source": [
    "time = int(input())\n",
    "day = time/(24*3600)\n",
    "hour = (time%(24*3600))/3600\n",
    "minutes = ((time%(24*3600))%3600)/60\n",
    "seconds = ((time%(24*3600))%3600)%60\n",
    "print(\"d:h:m:s-> %d:%02d:%02d:%02d\" % (day,hour,minutes,seconds))"
   ]
  },
  {
   "cell_type": "markdown",
   "metadata": {},
   "source": [
    "Exercise 26"
   ]
  },
  {
   "cell_type": "code",
   "execution_count": null,
   "metadata": {},
   "outputs": [],
   "source": [
    "import time\n",
    "print(time.asctime())"
   ]
  },
  {
   "cell_type": "markdown",
   "metadata": {},
   "source": [
    "Exercise 27"
   ]
  },
  {
   "cell_type": "code",
   "execution_count": null,
   "metadata": {},
   "outputs": [],
   "source": [
    "h = float(input())\n",
    "w = float(input())\n",
    "BMI = float(w/(h**2))\n",
    "print(f'{BMI:.3f}',\"kg/m^2\")"
   ]
  },
  {
   "cell_type": "markdown",
   "metadata": {},
   "source": [
    "Exercise 28"
   ]
  },
  {
   "cell_type": "code",
   "execution_count": null,
   "metadata": {},
   "outputs": [],
   "source": [
    "Ta = float(input())\n",
    "V = float(input())\n",
    "WCI = 13.12 + 0.6215 * Ta - 11.37 * (V**(0.16)) + 0.3965 * Ta * (V**(0.16))\n",
    "print(round(WCI))"
   ]
  },
  {
   "cell_type": "markdown",
   "metadata": {},
   "source": [
    "Exercise 29"
   ]
  },
  {
   "cell_type": "code",
   "execution_count": null,
   "metadata": {},
   "outputs": [],
   "source": [
    "n = int(input())\n",
    "print(n+273.15,\"Kelvin\")\n",
    "print((n*1.8)+32,\"Fahrenheit\")"
   ]
  },
  {
   "cell_type": "markdown",
   "metadata": {},
   "source": [
    "Exercise 30"
   ]
  },
  {
   "cell_type": "code",
   "execution_count": null,
   "metadata": {},
   "outputs": [],
   "source": [
    "a = int(input())\n",
    "print('millimeters of mercury ', a / 133, 132 * 1000)\n",
    "print('pounds per square inch ', a * 1000 / 6894,75729)\n",
    "print('atmosphere ', (a * 1000 / 101325))"
   ]
  },
  {
   "cell_type": "markdown",
   "metadata": {},
   "source": [
    "Exercise 31"
   ]
  },
  {
   "cell_type": "code",
   "execution_count": null,
   "metadata": {},
   "outputs": [],
   "source": [
    "s = input()\n",
    "sum = 0\n",
    "for i in s:\n",
    "    sum += int(i)\n",
    "print(sum)"
   ]
  },
  {
   "cell_type": "markdown",
   "metadata": {},
   "source": [
    "Exercise 32"
   ]
  },
  {
   "cell_type": "code",
   "execution_count": null,
   "metadata": {},
   "outputs": [],
   "source": [
    "s = input().split()\n",
    "a = int(s[0])\n",
    "b = int(s[1])\n",
    "c = int(s[2])\n",
    "print(min(min(a, b), c), \n",
    "      ((a + b + c) - max(max(a,b), c) - min(min(a, b), c) ), \n",
    "      max(max(a,b), c) )"
   ]
  },
  {
   "cell_type": "markdown",
   "metadata": {},
   "source": [
    "Exercise 33"
   ]
  },
  {
   "cell_type": "code",
   "execution_count": null,
   "metadata": {},
   "outputs": [],
   "source": [
    "a = int(input())\n",
    "print('regular price-', (a * 3.49), '$')\n",
    "print('discount-', (a * 3.49 * 0.6), '$')\n",
    "print('price-', ((a * 3.49) - (a * 3.49 * 0.6)))"
   ]
  }
 ],
 "metadata": {
  "kernelspec": {
   "display_name": "Python 3",
   "language": "python",
   "name": "python3"
  },
  "language_info": {
   "codemirror_mode": {
    "name": "ipython",
    "version": 3
   },
   "file_extension": ".py",
   "mimetype": "text/x-python",
   "name": "python",
   "nbconvert_exporter": "python",
   "pygments_lexer": "ipython3",
   "version": "3.7.4"
  }
 },
 "nbformat": 4,
 "nbformat_minor": 2
}
